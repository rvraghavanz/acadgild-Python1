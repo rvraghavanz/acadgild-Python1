{
 "cells": [
  {
   "cell_type": "markdown",
   "metadata": {},
   "source": [
    "Write a Python program to find the volume of a sphere with diameter 12 cm.\n",
    "Formula: V=4/3 * π * r***3"
   ]
  },
  {
   "cell_type": "code",
   "execution_count": 10,
   "metadata": {},
   "outputs": [
    {
     "name": "stdout",
     "output_type": "stream",
     "text": [
      "Diameter is 12\n",
      "The value of pi is 3.142\n",
      "The volume is 7239.168\n"
     ]
    }
   ],
   "source": [
    "import math \n",
    "r=12\n",
    "print(\"Diameter is \" + str(r))\n",
    "pii=round(math.pi,3)\n",
    "print(\"The value of pi is \" + str(pii))\n",
    "v=4/3 * pii * r **3\n",
    "print(\"The volume is \" + str(v))\n"
   ]
  },
  {
   "cell_type": "markdown",
   "metadata": {},
   "source": [
    "The program below is through hardcoding the value of PI instead of using the import package"
   ]
  },
  {
   "cell_type": "code",
   "execution_count": 11,
   "metadata": {},
   "outputs": [
    {
     "name": "stdout",
     "output_type": "stream",
     "text": [
      "Diameter is 12\n",
      "The value of pi is 3.142\n",
      "The volume is 7239.168\n"
     ]
    }
   ],
   "source": [
    "#import math \n",
    "r=12\n",
    "print(\"Diameter is \" + str(r))\n",
    "pii=3.142\n",
    "print(\"The value of pi is \" + str(pii))\n",
    "v=4/3 * pii * r **3\n",
    "print(\"The volume is \" + str(v))"
   ]
  },
  {
   "cell_type": "code",
   "execution_count": null,
   "metadata": {},
   "outputs": [],
   "source": []
  }
 ],
 "metadata": {
  "kernelspec": {
   "display_name": "Python 3",
   "language": "python",
   "name": "python3"
  },
  "language_info": {
   "codemirror_mode": {
    "name": "ipython",
    "version": 3
   },
   "file_extension": ".py",
   "mimetype": "text/x-python",
   "name": "python",
   "nbconvert_exporter": "python",
   "pygments_lexer": "ipython3",
   "version": "3.6.4"
  }
 },
 "nbformat": 4,
 "nbformat_minor": 2
}
